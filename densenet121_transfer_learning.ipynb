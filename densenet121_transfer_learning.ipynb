{
  "nbformat": 4,
  "nbformat_minor": 0,
  "metadata": {
    "colab": {
      "name": "densenet121-transfer-learning.ipynb",
      "provenance": [],
      "collapsed_sections": [],
      "authorship_tag": "ABX9TyNNT6Ov41o21GXSnmbgyjye",
      "include_colab_link": true
    },
    "kernelspec": {
      "name": "python3",
      "display_name": "Python 3"
    },
    "accelerator": "GPU"
  },
  "cells": [
    {
      "cell_type": "markdown",
      "metadata": {
        "id": "view-in-github",
        "colab_type": "text"
      },
      "source": [
        "<a href=\"https://colab.research.google.com/github/digyamandala/densenet121-transfer-learning/blob/master/densenet121_transfer_learning.ipynb\" target=\"_parent\"><img src=\"https://colab.research.google.com/assets/colab-badge.svg\" alt=\"Open In Colab\"/></a>"
      ]
    },
    {
      "cell_type": "code",
      "metadata": {
        "id": "DhWv3lJUL2ax",
        "colab_type": "code",
        "colab": {}
      },
      "source": [
        "import tensorflow as tf\n",
        "import numpy as np\n",
        "from pathlib import Path"
      ],
      "execution_count": 35,
      "outputs": []
    },
    {
      "cell_type": "code",
      "metadata": {
        "id": "EPDQtVcGMC-o",
        "colab_type": "code",
        "colab": {}
      },
      "source": [
        "from tensorflow.keras.applications import DenseNet121"
      ],
      "execution_count": 2,
      "outputs": []
    },
    {
      "cell_type": "code",
      "metadata": {
        "id": "mhfYY8GHtK24",
        "colab_type": "code",
        "colab": {
          "base_uri": "https://localhost:8080/",
          "height": 122
        },
        "outputId": "ebae4370-980f-40b7-9daf-c649fd53ed89"
      },
      "source": [
        "from google.colab import drive\n",
        "drive.mount('/content/gdrive/')"
      ],
      "execution_count": 25,
      "outputs": [
        {
          "output_type": "stream",
          "text": [
            "Go to this URL in a browser: https://accounts.google.com/o/oauth2/auth?client_id=947318989803-6bn6qk8qdgf4n4g3pfee6491hc0brc4i.apps.googleusercontent.com&redirect_uri=urn%3aietf%3awg%3aoauth%3a2.0%3aoob&response_type=code&scope=email%20https%3a%2f%2fwww.googleapis.com%2fauth%2fdocs.test%20https%3a%2f%2fwww.googleapis.com%2fauth%2fdrive%20https%3a%2f%2fwww.googleapis.com%2fauth%2fdrive.photos.readonly%20https%3a%2f%2fwww.googleapis.com%2fauth%2fpeopleapi.readonly\n",
            "\n",
            "Enter your authorization code:\n",
            "··········\n",
            "Mounted at /content/gdrive/\n"
          ],
          "name": "stdout"
        }
      ]
    },
    {
      "cell_type": "code",
      "metadata": {
        "id": "0miMk1UXy0Wc",
        "colab_type": "code",
        "colab": {}
      },
      "source": [
        "for p in Path(\"*\").glob(\"*\"):\n",
        "  print(p)"
      ],
      "execution_count": 89,
      "outputs": []
    },
    {
      "cell_type": "code",
      "metadata": {
        "id": "npQnjAzhuXcc",
        "colab_type": "code",
        "colab": {}
      },
      "source": [
        "ROOT = \"/content/gdrive/My Drive\" \n",
        "\n",
        "TEST_PATH = ROOT + \"/Covid19-dataset/test\"\n",
        "\n",
        "TRAIN_PATH = ROOT + \"/Covid19-dataset/train\"\n",
        "\n",
        "TRAIN_COVID = TRAIN_PATH + \"/Covid/\"\n",
        "TRAIN_NORMAL = TRAIN_PATH + \"/Normal/\"\n",
        "TRAIN_VIRAL_PNEUMONIA = TRAIN_PATH + \"/Viral Pneumonia/\"\n",
        "\n",
        "TEST_COVID = TEST_PATH + \"/Covid/\"\n",
        "TEST_NORMAL = TEST_PATH + \"/Normal/\"\n",
        "TEST_VIRAL_PNEUMONIA = TEST_PATH + \"/Viral Pneumonia/\""
      ],
      "execution_count": 134,
      "outputs": []
    },
    {
      "cell_type": "code",
      "metadata": {
        "id": "OVJm7AsotfTC",
        "colab_type": "code",
        "colab": {}
      },
      "source": [
        "train_covid_path = Path(TRAIN_COVID)\n",
        "train_normal_path = Path(TRAIN_NORMAL)\n",
        "train_viral_pneumonia_path = Path(TRAIN_VIRAL_PNEUMONIA)\n",
        "\n",
        "test_covid_path = Path(TEST_COVID)\n",
        "test_normal_path = Path(TEST_NORMAL)\n",
        "test_viral_pneumonia_path = Path(TEST_VIRAL_PNEUMONIA)"
      ],
      "execution_count": 135,
      "outputs": []
    },
    {
      "cell_type": "code",
      "metadata": {
        "id": "t5ayjGlSvRUT",
        "colab_type": "code",
        "colab": {}
      },
      "source": [
        "def loadImage(home_directory: Path, label: int):\n",
        "  x_train = []\n",
        "  y_train = []\n",
        "  for path in home_directory.glob(\"*.*\"):\n",
        "    image = tf.keras.preprocessing.image.load_img(path, target_size=(128,128))\n",
        "    np_image = np.array(image)\n",
        "    x_train.append(np_image)\n",
        "    y_train.append(np.array([label]))\n",
        "  return np.array(x_train), np.array(y_train)\n"
      ],
      "execution_count": 121,
      "outputs": []
    },
    {
      "cell_type": "code",
      "metadata": {
        "id": "_vm1jSVbz5fT",
        "colab_type": "code",
        "colab": {}
      },
      "source": [
        "x_train_covid, y_train_covid = loadImage(train_covid_path, 0)\n",
        "x_train_normal, y_train_normal = loadImage(train_normal_path, 1)\n",
        "x_train_viral, y_train_viral = loadImage(train_viral_pneumonia_path, 2)"
      ],
      "execution_count": 122,
      "outputs": []
    },
    {
      "cell_type": "code",
      "metadata": {
        "id": "DCz7vrIm5lbX",
        "colab_type": "code",
        "colab": {}
      },
      "source": [
        "x_test_covid, y_test_covid = loadImage(test_covid_path, 0)\n",
        "x_test_normal, y_test_normal = loadImage(test_normal_path, 1)\n",
        "x_test_viral, y_test_viral = loadImage(test_viral_pneumonia_path, 2)"
      ],
      "execution_count": 136,
      "outputs": []
    },
    {
      "cell_type": "code",
      "metadata": {
        "id": "7i5TG4nf3BIS",
        "colab_type": "code",
        "colab": {}
      },
      "source": [
        "x_train = np.concatenate((x_train_covid, x_train_normal, x_train_viral))\n",
        "y_train = np.concatenate((y_train_covid, y_train_normal, y_train_viral))"
      ],
      "execution_count": 125,
      "outputs": []
    },
    {
      "cell_type": "code",
      "metadata": {
        "id": "cHIZfNbf6JN1",
        "colab_type": "code",
        "colab": {}
      },
      "source": [
        "x_test = np.concatenate((x_test_covid, x_test_normal, x_test_viral))\n",
        "y_test = np.concatenate((y_test_covid, y_test_normal, y_test_viral))"
      ],
      "execution_count": 137,
      "outputs": []
    },
    {
      "cell_type": "code",
      "metadata": {
        "id": "w3hf5JMAliy3",
        "colab_type": "code",
        "colab": {}
      },
      "source": [
        "x_train_normalized = x_train / 255\n",
        "x_test_normalized = x_test / 255\n",
        "y_train_hot_vector = tf.keras.utils.to_categorical(y_train, 3)\n",
        "y_test_hot_vector = tf.keras.utils.to_categorical(y_test, 3)"
      ],
      "execution_count": 145,
      "outputs": []
    },
    {
      "cell_type": "code",
      "metadata": {
        "id": "EbynYa4CmKj2",
        "colab_type": "code",
        "colab": {}
      },
      "source": [
        "denseNet = DenseNet121(include_top=False, weights=\"imagenet\", input_shape=(128,128,3))"
      ],
      "execution_count": 177,
      "outputs": []
    },
    {
      "cell_type": "code",
      "metadata": {
        "id": "5e9JV4mwlzva",
        "colab_type": "code",
        "colab": {
          "base_uri": "https://localhost:8080/",
          "height": 255
        },
        "outputId": "a7e795a1-4e8e-4552-d846-5aa8a7059746"
      },
      "source": [
        "model = tf.keras.Sequential()\n",
        "model.add(denseNet)\n",
        "model.add(tf.keras.layers.Flatten())\n",
        "model.add(tf.keras.layers.Dense(3, activation=\"softmax\"))\n",
        "model.summary()\n",
        "model.compile(optimizer=\"adam\", loss=tf.keras.losses.categorical_crossentropy, metrics=[\"accuracy\"])"
      ],
      "execution_count": 178,
      "outputs": [
        {
          "output_type": "stream",
          "text": [
            "Model: \"sequential_12\"\n",
            "_________________________________________________________________\n",
            "Layer (type)                 Output Shape              Param #   \n",
            "=================================================================\n",
            "densenet121 (Model)          (None, 4, 4, 1024)        7037504   \n",
            "_________________________________________________________________\n",
            "flatten_8 (Flatten)          (None, 16384)             0         \n",
            "_________________________________________________________________\n",
            "dense_11 (Dense)             (None, 3)                 49155     \n",
            "=================================================================\n",
            "Total params: 7,086,659\n",
            "Trainable params: 7,003,011\n",
            "Non-trainable params: 83,648\n",
            "_________________________________________________________________\n"
          ],
          "name": "stdout"
        }
      ]
    },
    {
      "cell_type": "code",
      "metadata": {
        "id": "zoCz39GrniIE",
        "colab_type": "code",
        "colab": {
          "base_uri": "https://localhost:8080/",
          "height": 394
        },
        "outputId": "938cb496-340e-40ef-a762-0ade8007ae1e"
      },
      "source": [
        "model.fit(\n",
        "    x=x_train_normalized, \n",
        "    y=y_train_hot_vector, \n",
        "    batch_size=2, \n",
        "    validation_split=0.1, \n",
        "    epochs=10, \n",
        "    shuffle=True, )"
      ],
      "execution_count": 179,
      "outputs": [
        {
          "output_type": "stream",
          "text": [
            "Epoch 1/10\n",
            "113/113 [==============================] - 12s 102ms/step - loss: 3.7898 - accuracy: 0.6444 - val_loss: 61.5125 - val_accuracy: 0.0000e+00\n",
            "Epoch 2/10\n",
            "113/113 [==============================] - 9s 83ms/step - loss: 3.8221 - accuracy: 0.6667 - val_loss: 71.3709 - val_accuracy: 0.3846\n",
            "Epoch 3/10\n",
            "113/113 [==============================] - 9s 83ms/step - loss: 4.6305 - accuracy: 0.7022 - val_loss: 21.6253 - val_accuracy: 0.1154\n",
            "Epoch 4/10\n",
            "113/113 [==============================] - 9s 84ms/step - loss: 2.8779 - accuracy: 0.7867 - val_loss: 1.2088 - val_accuracy: 0.9231\n",
            "Epoch 5/10\n",
            "113/113 [==============================] - 9s 84ms/step - loss: 2.0992 - accuracy: 0.7911 - val_loss: 6.2605 - val_accuracy: 0.5769\n",
            "Epoch 6/10\n",
            "113/113 [==============================] - 9s 83ms/step - loss: 1.5771 - accuracy: 0.8267 - val_loss: 4.2754 - val_accuracy: 0.6154\n",
            "Epoch 7/10\n",
            "113/113 [==============================] - 9s 83ms/step - loss: 1.2670 - accuracy: 0.8444 - val_loss: 3.9230 - val_accuracy: 0.6923\n",
            "Epoch 8/10\n",
            "113/113 [==============================] - 9s 82ms/step - loss: 1.3035 - accuracy: 0.8800 - val_loss: 13.2729 - val_accuracy: 0.0769\n",
            "Epoch 9/10\n",
            "113/113 [==============================] - 9s 83ms/step - loss: 1.3812 - accuracy: 0.8667 - val_loss: 6.4080 - val_accuracy: 0.6154\n",
            "Epoch 10/10\n",
            "113/113 [==============================] - 9s 82ms/step - loss: 0.9242 - accuracy: 0.8844 - val_loss: 3.9320 - val_accuracy: 0.7308\n"
          ],
          "name": "stdout"
        },
        {
          "output_type": "execute_result",
          "data": {
            "text/plain": [
              "<tensorflow.python.keras.callbacks.History at 0x7f4bf11b72e8>"
            ]
          },
          "metadata": {
            "tags": []
          },
          "execution_count": 179
        }
      ]
    },
    {
      "cell_type": "code",
      "metadata": {
        "id": "cDOIY65jrxAe",
        "colab_type": "code",
        "colab": {
          "base_uri": "https://localhost:8080/",
          "height": 51
        },
        "outputId": "78805c19-026d-431d-cc91-ba1e2e98a916"
      },
      "source": [
        "model.evaluate(x_test_normalized, y_test_hot_vector)"
      ],
      "execution_count": 181,
      "outputs": [
        {
          "output_type": "stream",
          "text": [
            "3/3 [==============================] - 0s 49ms/step - loss: 2.8688 - accuracy: 0.8030\n"
          ],
          "name": "stdout"
        },
        {
          "output_type": "execute_result",
          "data": {
            "text/plain": [
              "[2.8687891960144043, 0.8030303120613098]"
            ]
          },
          "metadata": {
            "tags": []
          },
          "execution_count": 181
        }
      ]
    },
    {
      "cell_type": "code",
      "metadata": {
        "id": "yBY-vc-lAqTe",
        "colab_type": "code",
        "colab": {
          "base_uri": "https://localhost:8080/",
          "height": 34
        },
        "outputId": "9340de2e-f993-405d-bcff-440bb818adf7"
      },
      "source": [
        "x_test_normal.shape"
      ],
      "execution_count": 198,
      "outputs": [
        {
          "output_type": "execute_result",
          "data": {
            "text/plain": [
              "(20, 128, 128, 3)"
            ]
          },
          "metadata": {
            "tags": []
          },
          "execution_count": 198
        }
      ]
    },
    {
      "cell_type": "code",
      "metadata": {
        "id": "KlZvIyW9_wx2",
        "colab_type": "code",
        "colab": {
          "base_uri": "https://localhost:8080/",
          "height": 34
        },
        "outputId": "a7981b4d-e5a5-4741-a14c-4115c58cf78e"
      },
      "source": [
        "np.argmax(model.predict(np.array([x_test_normalized[26 + 26]])))"
      ],
      "execution_count": 213,
      "outputs": [
        {
          "output_type": "execute_result",
          "data": {
            "text/plain": [
              "2"
            ]
          },
          "metadata": {
            "tags": []
          },
          "execution_count": 213
        }
      ]
    }
  ]
}